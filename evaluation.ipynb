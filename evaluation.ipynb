{
 "cells": [
  {
   "cell_type": "code",
   "id": "initial_id",
   "metadata": {
    "collapsed": true
   },
   "source": [
    "import json\n",
    "import pickle\n",
    "\n",
    "import numpy as np\n",
    "import pandas as pd\n",
    "from sklearn.metrics import accuracy_score, mean_absolute_error, max_error"
   ],
   "outputs": [],
   "execution_count": null
  },
  {
   "cell_type": "code",
   "source": [
    "file_name = \"difficulty_predictions_gpt-3.5-turbo-0125_20240428-1323.pickle\"\n",
    "with open(file_name, 'rb') as f:\n",
    "    list_of_json = pickle.load(f)\n",
    "predictions = [json.loads(x) for x in list_of_json]"
   ],
   "metadata": {
    "collapsed": false
   },
   "id": "a0d916ee73cfa3fb",
   "outputs": [],
   "execution_count": null
  },
  {
   "cell_type": "code",
   "source": [
    "len(predictions)"
   ],
   "metadata": {
    "collapsed": false
   },
   "id": "42c13efd9604d7dd",
   "outputs": [],
   "execution_count": null
  },
  {
   "cell_type": "code",
   "source": [
    "target_data_path = \"data/Annotations.csv\"\n",
    "df = pd.read_csv(target_data_path)"
   ],
   "metadata": {
    "collapsed": false
   },
   "id": "10d1eb446c2e09be",
   "outputs": [],
   "execution_count": null
  },
  {
   "cell_type": "code",
   "source": [
    "df.head()"
   ],
   "metadata": {
    "collapsed": false
   },
   "id": "6d8fdc94950de61e",
   "outputs": [],
   "execution_count": null
  },
  {
   "cell_type": "code",
   "source": [
    "preds = {\n",
    "    \"cfp\": [],\n",
    "    \"cfd\": [],\n",
    "    \"uc\": [],\n",
    "    \"rhc\": [],\n",
    "    \"cpt\": [],\n",
    "    \"bd\": [],\n",
    "    \"r\": [],\n",
    "}\n",
    "ground_truth = {\n",
    "    \"cfp\": [],\n",
    "    \"cfd\": [],\n",
    "    \"uc\": [],\n",
    "    \"rhc\": [],\n",
    "    \"cpt\": [],\n",
    "    \"bd\": [],\n",
    "    \"r\": [],\n",
    "}\n",
    "for i, pred in enumerate(predictions):\n",
    "    for key in preds.keys():\n",
    "\n",
    "        if key in pred.keys() and isinstance(pred[key], (int, float)):\n",
    "            the_pred = pred[key]\n",
    "\n",
    "            preds[key].append(the_pred)\n",
    "            ground_truth[key].append(df.iloc[i][key.upper()])"
   ],
   "metadata": {
    "collapsed": false
   },
   "id": "566049db4c8e82fd",
   "outputs": [],
   "execution_count": null
  },
  {
   "cell_type": "code",
   "source": [
    "def boundary_loss(targets, preds):\n",
    "        targets = np.asarray(targets)\n",
    "        preds = np.asarray(preds)\n",
    "        return np.mean(np.abs(targets - preds))"
   ],
   "metadata": {
    "collapsed": false
   },
   "id": "d8397a94986827e5",
   "outputs": [],
   "execution_count": null
  },
  {
   "cell_type": "code",
   "source": [
    "rubric = {\n",
    "    \"CFP\": \"Chord finger positioning\",\n",
    "    \"CFD\": \"Chord finger difficulty\",\n",
    "    \"UC\": \"Uncommonness of chord\",\n",
    "    \"RHC\": \"Right-hand complexity\",\n",
    "    \"CPT\": \"Chord progression time\",\n",
    "    \"BD\": \"Beat difficulty\",\n",
    "    \"R\": \"Repetitiveness\",\n",
    "}\n",
    "\n",
    "b_losses = {}\n",
    "acc_losses = {}\n",
    "print(\"Metric\", \"\\t\"*4, \"Acc \", \"MAE \", \"MaxErr\", \"B-Loss\", sep=\"\\t\")\n",
    "for key in ground_truth.keys():\n",
    "    # print(key)\n",
    "    prrr = [round(pr) for pr in preds[key]]\n",
    "    acc = accuracy_score(ground_truth[key], prrr)\n",
    "    mae = mean_absolute_error(ground_truth[key], prrr)\n",
    "    max_err = max_error(ground_truth[key], preds[key])\n",
    "    b_loss = boundary_loss(ground_truth[key], preds[key])\n",
    "    b_losses[key] = round(b_loss, 2)\n",
    "    acc_losses[key] = round(acc, 2)\n",
    "    print(f\"{rubric[key.upper()]:25}\\t{acc:.2f}\\t{mae:.2f}\\t{max_err:.2f}\\t{b_loss:.2f}\")\n",
    "mean_acc = np.mean(list(acc_losses.values()))\n",
    "mean_b_loss = np.mean(list(b_losses.values()))\n",
    "print()\n",
    "print(f\"Average\\tAcc: {mean_acc :.2f} B-Loss: {mean_b_loss :.2f}\")\n",
    "print(f\"Aggregate\\tB-Loss: {sum(b_losses.values()):.2f}\")"
   ],
   "metadata": {
    "collapsed": false
   },
   "id": "be562cce032af77f",
   "outputs": [],
   "execution_count": null
  },
  {
   "cell_type": "code",
   "source": [
    "print(b_losses)"
   ],
   "metadata": {
    "collapsed": false
   },
   "id": "3e99ac06fa5b58e3",
   "outputs": [],
   "execution_count": null
  },
  {
   "cell_type": "code",
   "source": [
    "print(list_of_json[0])"
   ],
   "metadata": {
    "collapsed": false
   },
   "id": "36ab230b4fb6d577",
   "outputs": [],
   "execution_count": null
  },
  {
   "cell_type": "code",
   "source": [
    "filename_messages = \"difficulty_predictions_gpt-3.5-turbo-1106_20231125-2318_messages.pickle\"\n",
    "with open(filename_messages, 'rb') as f:\n",
    "    messages = pickle.load(f)"
   ],
   "metadata": {
    "collapsed": false
   },
   "id": "6247e2565d5f3687",
   "outputs": [],
   "execution_count": null
  },
  {
   "cell_type": "code",
   "source": [
    "print(messages[0])"
   ],
   "metadata": {
    "collapsed": false
   },
   "id": "63d70515f5454de2",
   "outputs": [],
   "execution_count": null
  },
  {
   "cell_type": "code",
   "source": [
    "print(df.iloc[0])"
   ],
   "metadata": {
    "collapsed": false
   },
   "id": "19d007efa0289518",
   "outputs": [],
   "execution_count": null
  },
  {
   "cell_type": "code",
   "source": "ground_truth[\"r\"]",
   "metadata": {
    "collapsed": false
   },
   "id": "5853033f0124c141",
   "outputs": [],
   "execution_count": null
  },
  {
   "cell_type": "code",
   "source": [],
   "metadata": {
    "collapsed": false
   },
   "id": "a0a6941ad27b9293",
   "outputs": [],
   "execution_count": null
  }
 ],
 "metadata": {
  "kernelspec": {
   "display_name": "Python 3",
   "language": "python",
   "name": "python3"
  },
  "language_info": {
   "codemirror_mode": {
    "name": "ipython",
    "version": 2
   },
   "file_extension": ".py",
   "mimetype": "text/x-python",
   "name": "python",
   "nbconvert_exporter": "python",
   "pygments_lexer": "ipython2",
   "version": "2.7.6"
  }
 },
 "nbformat": 4,
 "nbformat_minor": 5
}
